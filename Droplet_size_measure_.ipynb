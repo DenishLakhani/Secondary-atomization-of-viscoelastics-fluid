{
  "nbformat": 4,
  "nbformat_minor": 0,
  "metadata": {
    "colab": {
      "provenance": []
    },
    "kernelspec": {
      "name": "python3",
      "display_name": "Python 3"
    },
    "language_info": {
      "name": "python"
    }
  },
  "cells": [
    {
      "cell_type": "code",
      "execution_count": null,
      "metadata": {
        "id": "4geHe2qG1cYk"
      },
      "outputs": [],
      "source": [
        "from google.colab import drive\n",
        "drive.mount('/content/drive')"
      ]
    },
    {
      "cell_type": "code",
      "source": [
        "import cv2\n",
        "import numpy as np\n",
        "import os\n",
        "import matplotlib.pyplot as plt\n",
        "\n",
        "# Folder containing the images\n",
        "image_folder = '/content/drive/My Drive/viscoelastic/3% HPMC/measurement viscoelastic_001/'\n",
        "\n",
        "# List to store the measurements\n",
        "measurements = []\n",
        "\n",
        "# Function to process each image and measure the droplet diameter\n",
        "def process_image(image_path):\n",
        "    # Load the image\n",
        "    image = cv2.imread(image_path, cv2.IMREAD_GRAYSCALE)\n",
        "    # Step 1: Noise removal (Gaussian blur)\n",
        "    blurred = cv2.GaussianBlur(image, (5, 5), 0)\n",
        "\n",
        "    # Step 2: Sharpening\n",
        "    sharpen_kernel = np.array([[-1, -1, -1], [-1, 9, -1], [-1, -1, -1]])\n",
        "    sharpened = cv2.filter2D(blurred, -1, sharpen_kernel)\n",
        "\n",
        "    # Step 3: Edge detection (Canny edge detection)\n",
        "    edges = cv2.Canny(sharpened, threshold1=50, threshold2=150)\n",
        "\n",
        "    # Step 4: Thresholding\n",
        "    _, thresh = cv2.threshold(edges, 127, 255, cv2.THRESH_BINARY)\n",
        "\n",
        "    # Step 5: Fill the holes\n",
        "    contours, _ = cv2.findContours(thresh, cv2.RETR_EXTERNAL, cv2.CHAIN_APPROX_SIMPLE)\n",
        "    filled_image = np.zeros_like(thresh)\n",
        "    cv2.drawContours(filled_image, contours, -1, 255, thickness=cv2.FILLED)\n",
        "\n",
        "    # Step 7: Outline the droplet\n",
        "    outline = cv2.drawContours(np.zeros_like(filled_image), contours, -1, 255, thickness=2)\n",
        "\n",
        "    # Step 8: Calculate the diameters along the x and y axes\n",
        "    # Assuming the largest contour corresponds to the droplet\n",
        "    if contours:\n",
        "        cnt = min(contours, key=cv2.contourArea)\n",
        "        x, y, w, h = cv2.boundingRect(cnt)\n",
        "\n",
        "        diameter_x = w  # Diameter parallel to the x-axis\n",
        "        diameter_y = h  # Diameter perpendicular to the x-axis\n",
        "        return diameter_x, diameter_y\n",
        "    else:\n",
        "        return None, None\n",
        "\n",
        "# Process all images in the folder\n",
        "for image_name in os.listdir(image_folder):\n",
        "    image_path = os.path.join(image_folder, image_name)\n",
        "    if image_path.endswith('.tif'):  # Filtering for .tif images\n",
        "        diameter_x, diameter_y = process_image(image_path)\n",
        "        if diameter_x and diameter_y:\n",
        "            measurements.append({\n",
        "                'image': image_name,\n",
        "                'diameter_x': diameter_x,\n",
        "                'diameter_y': diameter_y\n",
        "            })\n",
        "            print(f'Processed {image_name} - Diameter x: {diameter_x}, Diameter y: {diameter_y}')\n",
        "        else:\n",
        "            print(f'No droplet found in {image_name}')\n",
        "\n",
        "# Save the results to a CSV file\n",
        "import pandas as pd\n",
        "df = pd.DataFrame(measurements)\n",
        "df.to_csv('droplet_measurements.csv', index=False)\n",
        "\n",
        "print('All images processed. Results saved to droplet_measurements.csv')\n"
      ],
      "metadata": {
        "id": "KcqD7YmD1e8z"
      },
      "execution_count": null,
      "outputs": []
    }
  ]
}